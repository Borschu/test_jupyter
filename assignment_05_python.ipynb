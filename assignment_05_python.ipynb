{
 "cells": [
  {
   "cell_type": "markdown",
   "id": "a3fdc70b",
   "metadata": {},
   "source": [
    "# Assignment V: GitHub and the ticketmaster.com API"
   ]
  },
  {
   "cell_type": "markdown",
   "id": "72cecaef",
   "metadata": {},
   "source": [
    "## General"
   ]
  },
  {
   "cell_type": "markdown",
   "id": "5a9d7eb9",
   "metadata": {},
   "source": [
    "URL of the GitHub-Repository: https://github.com/Borschu/Assignment_05"
   ]
  },
  {
   "cell_type": "markdown",
   "id": "b45f473b",
   "metadata": {},
   "source": [
    "Import packages:"
   ]
  },
  {
   "cell_type": "code",
   "execution_count": 3,
   "id": "3ca8357b",
   "metadata": {},
   "outputs": [],
   "source": [
    "import requests\n",
    "import numpy as np\n",
    "import pandas as pd\n",
    "import time"
   ]
  },
  {
   "cell_type": "markdown",
   "id": "1e5f3814",
   "metadata": {},
   "source": [
    "## Setting up a new GitHub repository\n"
   ]
  },
  {
   "cell_type": "markdown",
   "id": "5781c785",
   "metadata": {},
   "source": [
    "### (3)"
   ]
  },
  {
   "cell_type": "code",
   "execution_count": 4,
   "id": "b66ae97f",
   "metadata": {},
   "outputs": [],
   "source": [
    "# connect with python file where key is saved\n",
    "with open (r\"C:\\Users\\schur\\OneDrive\\Dokumente\\Studium\\Data Science Master Tübingen\\1. Semester\\Data Science Project Management\\Assignment\\key_assignment_5_python.py\") as script:\n",
    "    exec(script.readline())"
   ]
  }
 ],
 "metadata": {
  "kernelspec": {
   "display_name": "Python 3 (ipykernel)",
   "language": "python",
   "name": "python3"
  },
  "language_info": {
   "codemirror_mode": {
    "name": "ipython",
    "version": 3
   },
   "file_extension": ".py",
   "mimetype": "text/x-python",
   "name": "python",
   "nbconvert_exporter": "python",
   "pygments_lexer": "ipython3",
   "version": "3.9.13"
  }
 },
 "nbformat": 4,
 "nbformat_minor": 5
}
